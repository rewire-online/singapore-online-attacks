{
 "cells": [
  {
   "cell_type": "markdown",
   "id": "8d834534-bb5e-4d48-be6f-a360c056d713",
   "metadata": {},
   "source": [
    "## Data Analysis"
   ]
  },
  {
   "cell_type": "code",
   "execution_count": 1,
   "id": "e0f55e42-53b6-4520-8206-fc4a20571cc1",
   "metadata": {},
   "outputs": [],
   "source": [
    "import json\n",
    "import numpy as np\n",
    "import pandas as pd\n",
    "\n",
    "from collections import Counter\n",
    "from tqdm import tqdm\n",
    "tqdm.pandas()"
   ]
  },
  {
   "cell_type": "code",
   "execution_count": 2,
   "id": "57d5d42a-9e9c-4dbd-a36f-0777383ee82e",
   "metadata": {},
   "outputs": [],
   "source": [
    "full_data = pd.read_csv(\"0_resources/0_dataset/full.csv\")"
   ]
  },
  {
   "cell_type": "markdown",
   "id": "a78fd93c-ac3a-4a77-83eb-0134a6458db9",
   "metadata": {},
   "source": [
    "### Subreddit"
   ]
  },
  {
   "cell_type": "code",
   "execution_count": 3,
   "id": "b03ebb9f-87a9-4e4d-a61f-b533aef96250",
   "metadata": {},
   "outputs": [
    {
     "name": "stdout",
     "output_type": "stream",
     "text": [
      "Number of subreddits included in the data: 26\n"
     ]
    }
   ],
   "source": [
    "print(f\"Number of subreddits included in the data: {len(full_data.subreddit.unique())}\")"
   ]
  },
  {
   "cell_type": "code",
   "execution_count": 4,
   "id": "f3df49e5-2039-4603-91e4-40fa97c4a52e",
   "metadata": {},
   "outputs": [],
   "source": [
    "SUBREDDIT_CUTOFF = 5"
   ]
  },
  {
   "cell_type": "code",
   "execution_count": 5,
   "id": "2369bec0-63ac-4b61-8a33-ee0700a3f986",
   "metadata": {},
   "outputs": [],
   "source": [
    "subreddits = pd.DataFrame(\n",
    "    {\n",
    "        'Comments': full_data['subreddit'].value_counts(),\n",
    "        '% of Data': full_data['subreddit'].value_counts(normalize=True)*100\n",
    "    },\n",
    "    index=full_data['subreddit'].value_counts().index\n",
    ")\n",
    "other_count = np.sum(subreddits[subreddits['Comments'] < SUBREDDIT_CUTOFF].Comments)\n",
    "others = list(subreddits[subreddits['Comments'] < SUBREDDIT_CUTOFF].index)\n",
    "subreddits = subreddits[subreddits['Comments'] > SUBREDDIT_CUTOFF]\n",
    "\n",
    "subreddits.loc['Other'] = [other_count,  other_count/30]"
   ]
  },
  {
   "cell_type": "markdown",
   "id": "abcca065-903a-4bc9-8032-caf7836b8afc",
   "metadata": {
    "tags": []
   },
   "source": [
    "#### Calculate % of Attacks"
   ]
  },
  {
   "cell_type": "code",
   "execution_count": 6,
   "id": "b9396e90-30dd-4218-b332-b1e0a7a726a0",
   "metadata": {},
   "outputs": [],
   "source": [
    "def calculate_pct_by_grouper(df, col_to_group_by, target_col='maj_label_attack'):\n",
    "    raw = df.groupby([col_to_group_by, target_col]).id.count().unstack(fill_value=0).stack()\n",
    "    summary_df = pd.DataFrame(raw, columns=['Comments'])\n",
    "    total = df.groupby([col_to_group_by]).id.count()\n",
    "    summary_df['% of Selection'] = raw.div(total, level=col_to_group_by) * 100\n",
    "    return summary_df"
   ]
  },
  {
   "cell_type": "code",
   "execution_count": 7,
   "id": "872b5468-844c-4cd5-85a9-61e56572b9af",
   "metadata": {},
   "outputs": [],
   "source": [
    "attack_summary_df = calculate_pct_by_grouper(full_data, 'subreddit')\n",
    "attacks = []\n",
    "for idx, row in subreddits.iterrows():\n",
    "    try:\n",
    "        attacks.append(attack_summary_df.loc[idx].loc['Yes']['% of Selection'])\n",
    "    except:\n",
    "        other_attacks = []\n",
    "        for other_subreddit in others:\n",
    "            other_attacks.append(attack_summary_df.loc[other_subreddit].loc['Yes']['% of Selection'])\n",
    "        attacks.append(np.mean(other_attacks))    \n",
    "            \n",
    "subreddits['% Attacks'] = attacks"
   ]
  },
  {
   "cell_type": "code",
   "execution_count": 8,
   "id": "3adbd991-3f6c-4944-bcb6-fa9d5394eb74",
   "metadata": {},
   "outputs": [
    {
     "data": {
      "text/html": [
       "<div>\n",
       "<style scoped>\n",
       "    .dataframe tbody tr th:only-of-type {\n",
       "        vertical-align: middle;\n",
       "    }\n",
       "\n",
       "    .dataframe tbody tr th {\n",
       "        vertical-align: top;\n",
       "    }\n",
       "\n",
       "    .dataframe thead th {\n",
       "        text-align: right;\n",
       "    }\n",
       "</style>\n",
       "<table border=\"1\" class=\"dataframe\">\n",
       "  <thead>\n",
       "    <tr style=\"text-align: right;\">\n",
       "      <th></th>\n",
       "      <th>Comments</th>\n",
       "      <th>% of Data</th>\n",
       "      <th>% Attacks</th>\n",
       "    </tr>\n",
       "  </thead>\n",
       "  <tbody>\n",
       "    <tr>\n",
       "      <th>indonesia</th>\n",
       "      <td>12,561.0</td>\n",
       "      <td>83.7</td>\n",
       "      <td>39.7</td>\n",
       "    </tr>\n",
       "    <tr>\n",
       "      <th>malaysia</th>\n",
       "      <td>1,389.0</td>\n",
       "      <td>9.3</td>\n",
       "      <td>51.1</td>\n",
       "    </tr>\n",
       "    <tr>\n",
       "      <th>malaygonewild</th>\n",
       "      <td>272.0</td>\n",
       "      <td>1.8</td>\n",
       "      <td>61.4</td>\n",
       "    </tr>\n",
       "    <tr>\n",
       "      <th>singapore</th>\n",
       "      <td>239.0</td>\n",
       "      <td>1.6</td>\n",
       "      <td>26.8</td>\n",
       "    </tr>\n",
       "    <tr>\n",
       "      <th>MalaysGoneWild</th>\n",
       "      <td>201.0</td>\n",
       "      <td>1.3</td>\n",
       "      <td>54.2</td>\n",
       "    </tr>\n",
       "    <tr>\n",
       "      <th>Ajar_Malaysia</th>\n",
       "      <td>89.0</td>\n",
       "      <td>0.6</td>\n",
       "      <td>23.6</td>\n",
       "    </tr>\n",
       "    <tr>\n",
       "      <th>MalaysianFappers</th>\n",
       "      <td>49.0</td>\n",
       "      <td>0.3</td>\n",
       "      <td>57.1</td>\n",
       "    </tr>\n",
       "    <tr>\n",
       "      <th>malaysians</th>\n",
       "      <td>35.0</td>\n",
       "      <td>0.2</td>\n",
       "      <td>37.1</td>\n",
       "    </tr>\n",
       "    <tr>\n",
       "      <th>NegarakuMalaysia</th>\n",
       "      <td>35.0</td>\n",
       "      <td>0.2</td>\n",
       "      <td>37.1</td>\n",
       "    </tr>\n",
       "    <tr>\n",
       "      <th>SeksiArtisMalaysia</th>\n",
       "      <td>24.0</td>\n",
       "      <td>0.2</td>\n",
       "      <td>79.2</td>\n",
       "    </tr>\n",
       "    <tr>\n",
       "      <th>SingaporeRaw</th>\n",
       "      <td>20.0</td>\n",
       "      <td>0.1</td>\n",
       "      <td>35.0</td>\n",
       "    </tr>\n",
       "    <tr>\n",
       "      <th>malaysiasecretlab</th>\n",
       "      <td>17.0</td>\n",
       "      <td>0.1</td>\n",
       "      <td>64.7</td>\n",
       "    </tr>\n",
       "    <tr>\n",
       "      <th>MalaysNSFW</th>\n",
       "      <td>15.0</td>\n",
       "      <td>0.1</td>\n",
       "      <td>60.0</td>\n",
       "    </tr>\n",
       "    <tr>\n",
       "      <th>IndoR4R</th>\n",
       "      <td>13.0</td>\n",
       "      <td>0.1</td>\n",
       "      <td>7.7</td>\n",
       "    </tr>\n",
       "    <tr>\n",
       "      <th>NSFW_Malaysia</th>\n",
       "      <td>11.0</td>\n",
       "      <td>0.1</td>\n",
       "      <td>63.6</td>\n",
       "    </tr>\n",
       "    <tr>\n",
       "      <th>askSingapore</th>\n",
       "      <td>8.0</td>\n",
       "      <td>0.1</td>\n",
       "      <td>12.5</td>\n",
       "    </tr>\n",
       "    <tr>\n",
       "      <th>SGExams</th>\n",
       "      <td>6.0</td>\n",
       "      <td>0.0</td>\n",
       "      <td>16.7</td>\n",
       "    </tr>\n",
       "    <tr>\n",
       "      <th>Other</th>\n",
       "      <td>11.0</td>\n",
       "      <td>0.4</td>\n",
       "      <td>25.0</td>\n",
       "    </tr>\n",
       "  </tbody>\n",
       "</table>\n",
       "</div>"
      ],
      "text/plain": [
       "                    Comments  % of Data  % Attacks\n",
       "indonesia           12,561.0       83.7       39.7\n",
       "malaysia             1,389.0        9.3       51.1\n",
       "malaygonewild          272.0        1.8       61.4\n",
       "singapore              239.0        1.6       26.8\n",
       "MalaysGoneWild         201.0        1.3       54.2\n",
       "Ajar_Malaysia           89.0        0.6       23.6\n",
       "MalaysianFappers        49.0        0.3       57.1\n",
       "malaysians              35.0        0.2       37.1\n",
       "NegarakuMalaysia        35.0        0.2       37.1\n",
       "SeksiArtisMalaysia      24.0        0.2       79.2\n",
       "SingaporeRaw            20.0        0.1       35.0\n",
       "malaysiasecretlab       17.0        0.1       64.7\n",
       "MalaysNSFW              15.0        0.1       60.0\n",
       "IndoR4R                 13.0        0.1        7.7\n",
       "NSFW_Malaysia           11.0        0.1       63.6\n",
       "askSingapore             8.0        0.1       12.5\n",
       "SGExams                  6.0        0.0       16.7\n",
       "Other                   11.0        0.4       25.0"
      ]
     },
     "execution_count": 8,
     "metadata": {},
     "output_type": "execute_result"
    }
   ],
   "source": [
    "pd.options.display.float_format = \"{:,.1f}\".format\n",
    "subreddits"
   ]
  },
  {
   "cell_type": "code",
   "execution_count": 9,
   "id": "5677d527-f187-4072-9318-57cd734eb7a9",
   "metadata": {},
   "outputs": [],
   "source": [
    "# for idx, row in subreddits.iterrows():\n",
    "#     print(f\"{idx} & {int(row[0]):,.0f} & {row[1]:.1f} & {row[2]:.1f} \\\\\\\\\")"
   ]
  },
  {
   "cell_type": "markdown",
   "id": "45c0000c-9bf2-4959-a203-dc8e6ec7e227",
   "metadata": {},
   "source": [
    "### Language"
   ]
  },
  {
   "cell_type": "code",
   "execution_count": 10,
   "id": "5c4466f5-b065-465b-9f98-8299a4575cad",
   "metadata": {},
   "outputs": [],
   "source": [
    "LANGUAGE_CUTOFF = 10"
   ]
  },
  {
   "cell_type": "code",
   "execution_count": 11,
   "id": "ab94573f-22b6-4e08-a08f-7680fb0f0d45",
   "metadata": {},
   "outputs": [
    {
     "name": "stdout",
     "output_type": "stream",
     "text": [
      "Number of unique language combinations included in the data: 88\n"
     ]
    }
   ],
   "source": [
    "print(f\"Number of unique language combinations included in the data: {len(full_data.final_label_language.unique())}\")"
   ]
  },
  {
   "cell_type": "code",
   "execution_count": 12,
   "id": "0556daeb-e7f7-4f98-a266-773b08246a55",
   "metadata": {},
   "outputs": [],
   "source": [
    "# full_data.final_label_language.unique()"
   ]
  },
  {
   "cell_type": "code",
   "execution_count": 13,
   "id": "e205992c-0dea-48d2-b147-e68fb32a5ee8",
   "metadata": {},
   "outputs": [],
   "source": [
    "languages = pd.DataFrame(\n",
    "    {\n",
    "        'Comments': full_data['final_label_language'].value_counts(),\n",
    "        '% of Data': full_data['final_label_language'].value_counts(normalize=True)*100\n",
    "    },\n",
    "    index=full_data['final_label_language'].value_counts().index\n",
    ")\n",
    "other_count = np.sum(languages[languages['Comments'] < LANGUAGE_CUTOFF].Comments)\n",
    "others = list(languages[languages['Comments'] < LANGUAGE_CUTOFF].index)\n",
    "languages = languages[languages['Comments'] > LANGUAGE_CUTOFF]\n",
    "\n",
    "languages.loc['Other Languages'] = [other_count,  other_count/30]"
   ]
  },
  {
   "cell_type": "code",
   "execution_count": 14,
   "id": "873446bd-14f6-4e7d-aa6f-c23c3a3a94ae",
   "metadata": {},
   "outputs": [
    {
     "data": {
      "text/html": [
       "<div>\n",
       "<style scoped>\n",
       "    .dataframe tbody tr th:only-of-type {\n",
       "        vertical-align: middle;\n",
       "    }\n",
       "\n",
       "    .dataframe tbody tr th {\n",
       "        vertical-align: top;\n",
       "    }\n",
       "\n",
       "    .dataframe thead th {\n",
       "        text-align: right;\n",
       "    }\n",
       "</style>\n",
       "<table border=\"1\" class=\"dataframe\">\n",
       "  <thead>\n",
       "    <tr style=\"text-align: right;\">\n",
       "      <th></th>\n",
       "      <th>Comments</th>\n",
       "      <th>% of Data</th>\n",
       "    </tr>\n",
       "  </thead>\n",
       "  <tbody>\n",
       "    <tr>\n",
       "      <th>Indonesian</th>\n",
       "      <td>12,212.0</td>\n",
       "      <td>81.4</td>\n",
       "    </tr>\n",
       "    <tr>\n",
       "      <th>Malay</th>\n",
       "      <td>1,635.0</td>\n",
       "      <td>10.9</td>\n",
       "    </tr>\n",
       "    <tr>\n",
       "      <th>('English', 'Indonesian')</th>\n",
       "      <td>220.0</td>\n",
       "      <td>1.5</td>\n",
       "    </tr>\n",
       "    <tr>\n",
       "      <th>Singlish</th>\n",
       "      <td>218.0</td>\n",
       "      <td>1.5</td>\n",
       "    </tr>\n",
       "    <tr>\n",
       "      <th>Javanese</th>\n",
       "      <td>92.0</td>\n",
       "      <td>0.6</td>\n",
       "    </tr>\n",
       "    <tr>\n",
       "      <th>['English', 'Indonesian']</th>\n",
       "      <td>90.0</td>\n",
       "      <td>0.6</td>\n",
       "    </tr>\n",
       "    <tr>\n",
       "      <th>['Indonesian', 'English']</th>\n",
       "      <td>86.0</td>\n",
       "      <td>0.6</td>\n",
       "    </tr>\n",
       "    <tr>\n",
       "      <th>English</th>\n",
       "      <td>85.0</td>\n",
       "      <td>0.6</td>\n",
       "    </tr>\n",
       "    <tr>\n",
       "      <th>['Malay', 'English']</th>\n",
       "      <td>84.0</td>\n",
       "      <td>0.6</td>\n",
       "    </tr>\n",
       "    <tr>\n",
       "      <th>Sundanese</th>\n",
       "      <td>46.0</td>\n",
       "      <td>0.3</td>\n",
       "    </tr>\n",
       "    <tr>\n",
       "      <th>['English', 'Malay']</th>\n",
       "      <td>30.0</td>\n",
       "      <td>0.2</td>\n",
       "    </tr>\n",
       "    <tr>\n",
       "      <th>('English', 'Malay')</th>\n",
       "      <td>17.0</td>\n",
       "      <td>0.1</td>\n",
       "    </tr>\n",
       "    <tr>\n",
       "      <th>('Indonesian', 'Javanese')</th>\n",
       "      <td>15.0</td>\n",
       "      <td>0.1</td>\n",
       "    </tr>\n",
       "    <tr>\n",
       "      <th>['Indonesian', 'Sundanese']</th>\n",
       "      <td>12.0</td>\n",
       "      <td>0.1</td>\n",
       "    </tr>\n",
       "    <tr>\n",
       "      <th>Chinese</th>\n",
       "      <td>11.0</td>\n",
       "      <td>0.1</td>\n",
       "    </tr>\n",
       "    <tr>\n",
       "      <th>Other Languages</th>\n",
       "      <td>147.0</td>\n",
       "      <td>4.9</td>\n",
       "    </tr>\n",
       "  </tbody>\n",
       "</table>\n",
       "</div>"
      ],
      "text/plain": [
       "                             Comments  % of Data\n",
       "Indonesian                   12,212.0       81.4\n",
       "Malay                         1,635.0       10.9\n",
       "('English', 'Indonesian')       220.0        1.5\n",
       "Singlish                        218.0        1.5\n",
       "Javanese                         92.0        0.6\n",
       "['English', 'Indonesian']        90.0        0.6\n",
       "['Indonesian', 'English']        86.0        0.6\n",
       "English                          85.0        0.6\n",
       "['Malay', 'English']             84.0        0.6\n",
       "Sundanese                        46.0        0.3\n",
       "['English', 'Malay']             30.0        0.2\n",
       "('English', 'Malay')             17.0        0.1\n",
       "('Indonesian', 'Javanese')       15.0        0.1\n",
       "['Indonesian', 'Sundanese']      12.0        0.1\n",
       "Chinese                          11.0        0.1\n",
       "Other Languages                 147.0        4.9"
      ]
     },
     "execution_count": 14,
     "metadata": {},
     "output_type": "execute_result"
    }
   ],
   "source": [
    "pd.options.display.float_format = \"{:,.1f}\".format\n",
    "languages"
   ]
  },
  {
   "cell_type": "code",
   "execution_count": 15,
   "id": "a905d9ba-5bae-473c-a034-de5af3c05e42",
   "metadata": {},
   "outputs": [],
   "source": [
    "# for idx, row in languages.iterrows():\n",
    "#     print(f\"{idx} & {int(row[0]):,.0f} & {row[1]:.1f} \\\\\\\\\")"
   ]
  },
  {
   "cell_type": "markdown",
   "id": "18d32587-d489-4664-b87f-7b6b13cce4c6",
   "metadata": {},
   "source": [
    "### Time"
   ]
  },
  {
   "cell_type": "code",
   "execution_count": 16,
   "id": "d4b62f2f-b42a-4dc8-90b5-52803c915b88",
   "metadata": {},
   "outputs": [
    {
     "name": "stdout",
     "output_type": "stream",
     "text": [
      "Number of years included in the data: 12\n"
     ]
    }
   ],
   "source": [
    "full_data['year'] = full_data['date'].apply(lambda x: x[:-6])\n",
    "print(f\"Number of years included in the data: {len(full_data.year.unique())}\")"
   ]
  },
  {
   "cell_type": "code",
   "execution_count": 17,
   "id": "f1ccaf9e-3619-4da6-b9c4-3e35f954e0c4",
   "metadata": {},
   "outputs": [
    {
     "name": "stdout",
     "output_type": "stream",
     "text": [
      "Earliest comment in the data: 2011-05-19. Most recent comment: 2022-08-31\n"
     ]
    }
   ],
   "source": [
    "timestamps = list(full_data['date'].unique())\n",
    "timestamps.sort()\n",
    "print(f\"Earliest comment in the data: {timestamps[0]}. Most recent comment: {timestamps[-1]}\")"
   ]
  },
  {
   "cell_type": "code",
   "execution_count": 18,
   "id": "4fe52000-5f1f-49f2-bacb-e5136032a845",
   "metadata": {},
   "outputs": [],
   "source": [
    "time = pd.DataFrame(\n",
    "    {\n",
    "        'Comments': full_data['year'].value_counts(),\n",
    "        '% of Data': full_data['year'].value_counts(normalize=True)*100\n",
    "    },\n",
    "    index=full_data['year'].value_counts().index\n",
    ")"
   ]
  },
  {
   "cell_type": "code",
   "execution_count": 19,
   "id": "7e3a475a-d912-42f3-a103-057b5ce5a76a",
   "metadata": {},
   "outputs": [],
   "source": [
    "attack_summary_df = calculate_pct_by_grouper(full_data, 'year')\n",
    "attacks = []\n",
    "for idx, row in time.iterrows():\n",
    "    attacks.append(attack_summary_df.loc[idx].loc['Yes']['% of Selection'])\n",
    "            \n",
    "time['% Attacks'] = attacks\n",
    "time = time.sort_index(ascending=False)"
   ]
  },
  {
   "cell_type": "code",
   "execution_count": 20,
   "id": "0bc37dbf-7b8e-4729-96c4-686c472b2aad",
   "metadata": {},
   "outputs": [
    {
     "data": {
      "text/html": [
       "<div>\n",
       "<style scoped>\n",
       "    .dataframe tbody tr th:only-of-type {\n",
       "        vertical-align: middle;\n",
       "    }\n",
       "\n",
       "    .dataframe tbody tr th {\n",
       "        vertical-align: top;\n",
       "    }\n",
       "\n",
       "    .dataframe thead th {\n",
       "        text-align: right;\n",
       "    }\n",
       "</style>\n",
       "<table border=\"1\" class=\"dataframe\">\n",
       "  <thead>\n",
       "    <tr style=\"text-align: right;\">\n",
       "      <th></th>\n",
       "      <th>Comments</th>\n",
       "      <th>% of Data</th>\n",
       "      <th>% Attacks</th>\n",
       "    </tr>\n",
       "  </thead>\n",
       "  <tbody>\n",
       "    <tr>\n",
       "      <th>2022</th>\n",
       "      <td>3672</td>\n",
       "      <td>24.5</td>\n",
       "      <td>38.7</td>\n",
       "    </tr>\n",
       "    <tr>\n",
       "      <th>2021</th>\n",
       "      <td>4142</td>\n",
       "      <td>27.6</td>\n",
       "      <td>39.6</td>\n",
       "    </tr>\n",
       "    <tr>\n",
       "      <th>2020</th>\n",
       "      <td>3028</td>\n",
       "      <td>20.2</td>\n",
       "      <td>42.1</td>\n",
       "    </tr>\n",
       "    <tr>\n",
       "      <th>2019</th>\n",
       "      <td>2084</td>\n",
       "      <td>13.9</td>\n",
       "      <td>40.9</td>\n",
       "    </tr>\n",
       "    <tr>\n",
       "      <th>2018</th>\n",
       "      <td>1076</td>\n",
       "      <td>7.2</td>\n",
       "      <td>46.7</td>\n",
       "    </tr>\n",
       "    <tr>\n",
       "      <th>2017</th>\n",
       "      <td>705</td>\n",
       "      <td>4.7</td>\n",
       "      <td>51.9</td>\n",
       "    </tr>\n",
       "    <tr>\n",
       "      <th>2016</th>\n",
       "      <td>101</td>\n",
       "      <td>0.7</td>\n",
       "      <td>44.6</td>\n",
       "    </tr>\n",
       "    <tr>\n",
       "      <th>2015</th>\n",
       "      <td>113</td>\n",
       "      <td>0.8</td>\n",
       "      <td>39.8</td>\n",
       "    </tr>\n",
       "    <tr>\n",
       "      <th>2014</th>\n",
       "      <td>61</td>\n",
       "      <td>0.4</td>\n",
       "      <td>32.8</td>\n",
       "    </tr>\n",
       "    <tr>\n",
       "      <th>2013</th>\n",
       "      <td>10</td>\n",
       "      <td>0.1</td>\n",
       "      <td>30.0</td>\n",
       "    </tr>\n",
       "    <tr>\n",
       "      <th>2012</th>\n",
       "      <td>5</td>\n",
       "      <td>0.0</td>\n",
       "      <td>60.0</td>\n",
       "    </tr>\n",
       "    <tr>\n",
       "      <th>2011</th>\n",
       "      <td>3</td>\n",
       "      <td>0.0</td>\n",
       "      <td>66.7</td>\n",
       "    </tr>\n",
       "  </tbody>\n",
       "</table>\n",
       "</div>"
      ],
      "text/plain": [
       "      Comments  % of Data  % Attacks\n",
       "2022      3672       24.5       38.7\n",
       "2021      4142       27.6       39.6\n",
       "2020      3028       20.2       42.1\n",
       "2019      2084       13.9       40.9\n",
       "2018      1076        7.2       46.7\n",
       "2017       705        4.7       51.9\n",
       "2016       101        0.7       44.6\n",
       "2015       113        0.8       39.8\n",
       "2014        61        0.4       32.8\n",
       "2013        10        0.1       30.0\n",
       "2012         5        0.0       60.0\n",
       "2011         3        0.0       66.7"
      ]
     },
     "execution_count": 20,
     "metadata": {},
     "output_type": "execute_result"
    }
   ],
   "source": [
    "time"
   ]
  },
  {
   "cell_type": "code",
   "execution_count": 21,
   "id": "c7a45392-9cbf-4a9c-877b-a30b8f0bda75",
   "metadata": {},
   "outputs": [],
   "source": [
    "# for idx, row in time.iterrows():\n",
    "#     print(f\"{idx} & {int(row[0]):,.0f} & {row[1]:.1f} & {row[2]:.1f} \\\\\\\\\")"
   ]
  },
  {
   "cell_type": "markdown",
   "id": "88c53bc6-e7bc-40e7-aba8-51c6b4537db8",
   "metadata": {},
   "source": [
    "### User"
   ]
  },
  {
   "cell_type": "code",
   "execution_count": 22,
   "id": "f070e6b7-03fe-40d4-912b-435425f6eca8",
   "metadata": {},
   "outputs": [
    {
     "name": "stdout",
     "output_type": "stream",
     "text": [
      "Number of individual users contributing to the data: 5,307\n"
     ]
    }
   ],
   "source": [
    "users = len(full_data.author.unique())\n",
    "print(f\"Number of individual users contributing to the data: {users:,.0f}\")"
   ]
  },
  {
   "cell_type": "code",
   "execution_count": 23,
   "id": "cf2c645b-f004-4e29-8b2e-b9308a4729ae",
   "metadata": {},
   "outputs": [
    {
     "data": {
      "text/html": [
       "<div>\n",
       "<style scoped>\n",
       "    .dataframe tbody tr th:only-of-type {\n",
       "        vertical-align: middle;\n",
       "    }\n",
       "\n",
       "    .dataframe tbody tr th {\n",
       "        vertical-align: top;\n",
       "    }\n",
       "\n",
       "    .dataframe thead th {\n",
       "        text-align: right;\n",
       "    }\n",
       "</style>\n",
       "<table border=\"1\" class=\"dataframe\">\n",
       "  <thead>\n",
       "    <tr style=\"text-align: right;\">\n",
       "      <th></th>\n",
       "      <th>Users</th>\n",
       "      <th>% of Users</th>\n",
       "    </tr>\n",
       "    <tr>\n",
       "      <th>Comments</th>\n",
       "      <th></th>\n",
       "      <th></th>\n",
       "    </tr>\n",
       "  </thead>\n",
       "  <tbody>\n",
       "    <tr>\n",
       "      <th>1</th>\n",
       "      <td>3303</td>\n",
       "      <td>62.2</td>\n",
       "    </tr>\n",
       "    <tr>\n",
       "      <th>2</th>\n",
       "      <td>763</td>\n",
       "      <td>14.4</td>\n",
       "    </tr>\n",
       "    <tr>\n",
       "      <th>3</th>\n",
       "      <td>376</td>\n",
       "      <td>7.1</td>\n",
       "    </tr>\n",
       "    <tr>\n",
       "      <th>4</th>\n",
       "      <td>194</td>\n",
       "      <td>3.7</td>\n",
       "    </tr>\n",
       "    <tr>\n",
       "      <th>5</th>\n",
       "      <td>150</td>\n",
       "      <td>2.8</td>\n",
       "    </tr>\n",
       "    <tr>\n",
       "      <th>6</th>\n",
       "      <td>105</td>\n",
       "      <td>2.0</td>\n",
       "    </tr>\n",
       "    <tr>\n",
       "      <th>7</th>\n",
       "      <td>63</td>\n",
       "      <td>1.2</td>\n",
       "    </tr>\n",
       "    <tr>\n",
       "      <th>8</th>\n",
       "      <td>46</td>\n",
       "      <td>0.9</td>\n",
       "    </tr>\n",
       "    <tr>\n",
       "      <th>9</th>\n",
       "      <td>36</td>\n",
       "      <td>0.7</td>\n",
       "    </tr>\n",
       "    <tr>\n",
       "      <th>10+</th>\n",
       "      <td>70</td>\n",
       "      <td>1.3</td>\n",
       "    </tr>\n",
       "  </tbody>\n",
       "</table>\n",
       "</div>"
      ],
      "text/plain": [
       "          Users  % of Users\n",
       "Comments                   \n",
       "1          3303        62.2\n",
       "2           763        14.4\n",
       "3           376         7.1\n",
       "4           194         3.7\n",
       "5           150         2.8\n",
       "6           105         2.0\n",
       "7            63         1.2\n",
       "8            46         0.9\n",
       "9            36         0.7\n",
       "10+          70         1.3"
      ]
     },
     "execution_count": 23,
     "metadata": {},
     "output_type": "execute_result"
    }
   ],
   "source": [
    "author_counts = full_data.groupby(['author']).id.count()\n",
    "counts, bins = np.histogram(author_counts, bins=np.linspace(1,11,11))\n",
    "labels = ['1','2','3','4','5','6','7','8','9','10+']\n",
    "author = pd.DataFrame(zip(labels,counts,(counts/users)*100), columns=['Comments', 'Users', '% of Users'])\n",
    "author.set_index('Comments')"
   ]
  },
  {
   "cell_type": "code",
   "execution_count": 24,
   "id": "4d757f49-762a-48d1-8510-739ea2aa94f7",
   "metadata": {},
   "outputs": [],
   "source": [
    "# for idx, row in author.iterrows():\n",
    "#     print(f\"{row[0]} & {int(row[1]):,.0f} & {row[2]:.1f} \\\\\\\\\")"
   ]
  },
  {
   "cell_type": "code",
   "execution_count": 25,
   "id": "6ae941fc-bd27-4084-9b08-1a94c8459955",
   "metadata": {},
   "outputs": [
    {
     "name": "stdout",
     "output_type": "stream",
     "text": [
      "Comments from the user most often represented in the dataset: 179\n"
     ]
    }
   ],
   "source": [
    "print(f\"Comments from the user most often represented in the dataset: {author_counts.max():,.0f}\")"
   ]
  },
  {
   "cell_type": "markdown",
   "id": "3bbf3983-883e-447b-bc50-619b77adbab5",
   "metadata": {},
   "source": [
    "### Attacks"
   ]
  },
  {
   "cell_type": "code",
   "execution_count": 26,
   "id": "f0989607-9f89-4a75-901e-e9e357c62122",
   "metadata": {},
   "outputs": [
    {
     "name": "stdout",
     "output_type": "stream",
     "text": [
      "6,173 (41.15%) comments were majority-labelled as containing attacks.\n"
     ]
    }
   ],
   "source": [
    "attacks = len(full_data[full_data['maj_label_attack'] == 'Yes'])\n",
    "print(f\"{attacks:,.0f} ({(attacks/len(full_data))*100:.2f}%) comments were majority-labelled as containing attacks.\")"
   ]
  },
  {
   "cell_type": "code",
   "execution_count": 27,
   "id": "84593d5c-3c33-49e9-9e8e-f3cdb472ab3a",
   "metadata": {},
   "outputs": [],
   "source": [
    "def convert_to_majority(entry):\n",
    "    try:\n",
    "        entry = json.loads(entry.replace('nan', \"'nan'\").replace('\\'', \"\\\"\"))\n",
    "        if Counter(entry)['Yes'] > 1:\n",
    "            return 1\n",
    "    except: \n",
    "        if (entry.count('[nan,')+entry.count(' nan,')+entry.count('nan]')) < 1:\n",
    "            return 1\n",
    "    return 0"
   ]
  },
  {
   "cell_type": "code",
   "execution_count": 28,
   "id": "54342140-b233-4c3b-bde0-5c092c923477",
   "metadata": {},
   "outputs": [],
   "source": [
    "attack_types = [\n",
    "    ('attack_person', 'Attack on a Person'),\n",
    "    ('attack_media', 'Attack on Media'), \n",
    "    ('attack_protected', 'Attack on a Protected Group'),\n",
    "    ('attack_institution', 'Attack on an Institution'), \n",
    "    ('attack_other', 'Other Attacks')\n",
    "]"
   ]
  },
  {
   "cell_type": "code",
   "execution_count": 29,
   "id": "0a735799-a516-4a14-8674-88f80b08e133",
   "metadata": {},
   "outputs": [
    {
     "name": "stderr",
     "output_type": "stream",
     "text": [
      "100%|██████████████████████████████████████████████████████████████████████████████████████████████| 15000/15000 [00:00<00:00, 408931.76it/s]\n",
      "100%|██████████████████████████████████████████████████████████████████████████████████████████████| 15000/15000 [00:00<00:00, 484479.90it/s]\n",
      "100%|██████████████████████████████████████████████████████████████████████████████████████████████| 15000/15000 [00:00<00:00, 488489.84it/s]\n",
      "100%|██████████████████████████████████████████████████████████████████████████████████████████████| 15000/15000 [00:00<00:00, 477555.24it/s]\n",
      "100%|██████████████████████████████████████████████████████████████████████████████████████████████| 15000/15000 [00:00<00:00, 465117.32it/s]\n"
     ]
    }
   ],
   "source": [
    "for attack_type, attack_description in attack_types:\n",
    "    full_data[attack_type + \"_maj\"] = full_data[attack_type].progress_apply(lambda x: convert_to_majority(x))"
   ]
  },
  {
   "cell_type": "code",
   "execution_count": 30,
   "id": "0c4c0ec4-c6d6-4b62-81e0-77a21fbaa8bc",
   "metadata": {},
   "outputs": [
    {
     "data": {
      "text/plain": [
       "4356"
      ]
     },
     "execution_count": 30,
     "metadata": {},
     "output_type": "execute_result"
    }
   ],
   "source": [
    "len(full_data[full_data[\"attack_person_maj\"] == 1])"
   ]
  },
  {
   "cell_type": "code",
   "execution_count": 31,
   "id": "e231ef3c-3ef9-4007-a7f4-23920475bf2c",
   "metadata": {},
   "outputs": [],
   "source": [
    "attack_type_analysis = []\n",
    "for attack_type, attack_description in attack_types:\n",
    "    results = [attack_description]\n",
    "    entries = full_data[full_data[attack_type + \"_maj\"] == 1]\n",
    "    results.append(len(entries))\n",
    "    results.append((len(entries)/attacks)*100)\n",
    "    attack_type_analysis.append(results)\n",
    "df_columns = ['Attack Type', 'Comments', '% of Data']\n",
    "attack_type_analysis = pd.DataFrame(attack_type_analysis, columns=df_columns)"
   ]
  },
  {
   "cell_type": "code",
   "execution_count": 32,
   "id": "46905e3f-c822-4104-bfa2-6b6805cbe087",
   "metadata": {},
   "outputs": [
    {
     "data": {
      "text/html": [
       "<div>\n",
       "<style scoped>\n",
       "    .dataframe tbody tr th:only-of-type {\n",
       "        vertical-align: middle;\n",
       "    }\n",
       "\n",
       "    .dataframe tbody tr th {\n",
       "        vertical-align: top;\n",
       "    }\n",
       "\n",
       "    .dataframe thead th {\n",
       "        text-align: right;\n",
       "    }\n",
       "</style>\n",
       "<table border=\"1\" class=\"dataframe\">\n",
       "  <thead>\n",
       "    <tr style=\"text-align: right;\">\n",
       "      <th></th>\n",
       "      <th>Comments</th>\n",
       "      <th>% of Data</th>\n",
       "    </tr>\n",
       "    <tr>\n",
       "      <th>Attack Type</th>\n",
       "      <th></th>\n",
       "      <th></th>\n",
       "    </tr>\n",
       "  </thead>\n",
       "  <tbody>\n",
       "    <tr>\n",
       "      <th>Attack on a Person</th>\n",
       "      <td>4356</td>\n",
       "      <td>70.6</td>\n",
       "    </tr>\n",
       "    <tr>\n",
       "      <th>Attack on Media</th>\n",
       "      <td>78</td>\n",
       "      <td>1.3</td>\n",
       "    </tr>\n",
       "    <tr>\n",
       "      <th>Attack on a Protected Group</th>\n",
       "      <td>534</td>\n",
       "      <td>8.7</td>\n",
       "    </tr>\n",
       "    <tr>\n",
       "      <th>Attack on an Institution</th>\n",
       "      <td>428</td>\n",
       "      <td>6.9</td>\n",
       "    </tr>\n",
       "    <tr>\n",
       "      <th>Other Attacks</th>\n",
       "      <td>14</td>\n",
       "      <td>0.2</td>\n",
       "    </tr>\n",
       "  </tbody>\n",
       "</table>\n",
       "</div>"
      ],
      "text/plain": [
       "                             Comments  % of Data\n",
       "Attack Type                                     \n",
       "Attack on a Person               4356       70.6\n",
       "Attack on Media                    78        1.3\n",
       "Attack on a Protected Group       534        8.7\n",
       "Attack on an Institution          428        6.9\n",
       "Other Attacks                      14        0.2"
      ]
     },
     "execution_count": 32,
     "metadata": {},
     "output_type": "execute_result"
    }
   ],
   "source": [
    "attack_type_analysis.set_index('Attack Type')"
   ]
  },
  {
   "cell_type": "code",
   "execution_count": 33,
   "id": "d7970420-25a2-4a1f-99c7-afbbd2f09b36",
   "metadata": {},
   "outputs": [],
   "source": [
    "# for idx, row in attack_type_analysis.iterrows():\n",
    "#     print(f\"{row[0]} & {int(row[1]):,.0f} & {row[2]:.1f} \\\\\\\\\")"
   ]
  },
  {
   "cell_type": "code",
   "execution_count": 34,
   "id": "38f54cfc-b22e-4fce-a059-eea4baf5b55c",
   "metadata": {},
   "outputs": [],
   "source": [
    "no_attack_type = len(\n",
    "    full_data[\n",
    "        (full_data['maj_label_attack'] == 'Yes') &\n",
    "        (full_data['attack_person_maj'] == 0) & \n",
    "        (full_data['attack_media_maj'] == 0) & \n",
    "        (full_data['attack_protected_maj'] == 0) & \n",
    "        (full_data['attack_institution_maj'] == 0) & \n",
    "        (full_data['attack_other_maj'] == 0) \n",
    "    ]\n",
    ")"
   ]
  },
  {
   "cell_type": "code",
   "execution_count": 35,
   "id": "0ba1e1fa-1df7-4e7e-a9dd-42448c81c246",
   "metadata": {},
   "outputs": [
    {
     "name": "stdout",
     "output_type": "stream",
     "text": [
      "Comments majority-voted as containing attacks without a majority-voted attack type: 1,199\n"
     ]
    }
   ],
   "source": [
    "print(f\"Comments majority-voted as containing attacks without a majority-voted attack type: {no_attack_type:,.0f}\")"
   ]
  },
  {
   "cell_type": "code",
   "execution_count": null,
   "id": "5542d0eb-12f7-4d5d-b5c1-12815d219c39",
   "metadata": {},
   "outputs": [],
   "source": []
  }
 ],
 "metadata": {
  "kernelspec": {
   "display_name": "Python 3 (ipykernel)",
   "language": "python",
   "name": "python3"
  },
  "language_info": {
   "codemirror_mode": {
    "name": "ipython",
    "version": 3
   },
   "file_extension": ".py",
   "mimetype": "text/x-python",
   "name": "python",
   "nbconvert_exporter": "python",
   "pygments_lexer": "ipython3",
   "version": "3.9.16"
  }
 },
 "nbformat": 4,
 "nbformat_minor": 5
}
