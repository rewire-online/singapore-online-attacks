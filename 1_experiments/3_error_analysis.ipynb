{
 "cells": [
  {
   "cell_type": "markdown",
   "id": "b07cdcca-4487-441f-8cb0-bc4807528b1d",
   "metadata": {},
   "source": [
    "## Error Analysis"
   ]
  },
  {
   "cell_type": "code",
   "execution_count": 1,
   "id": "5a18e785-8187-4ea0-a327-4da86a4eb7b6",
   "metadata": {},
   "outputs": [],
   "source": [
    "import json\n",
    "import numpy as np\n",
    "import pandas as pd\n",
    "\n",
    "from collections import Counter\n",
    "from sklearn.metrics import classification_report\n",
    "from tqdm import tqdm\n",
    "tqdm.pandas()"
   ]
  },
  {
   "cell_type": "code",
   "execution_count": 2,
   "id": "df4bee7f-414b-41e2-8fb2-c70b57b2127e",
   "metadata": {},
   "outputs": [],
   "source": [
    "def collect_predictions(df, folder, model_names, file):\n",
    "    for model_name in model_names:\n",
    "        df[model_name] = pd.read_csv(f\"0_resources/3_model_predictions/baselines/{model_name}/{file}\")[model_name]\n",
    "    return df"
   ]
  },
  {
   "cell_type": "code",
   "execution_count": 3,
   "id": "6d082e14-e5fb-4770-afd5-a934573493a9",
   "metadata": {},
   "outputs": [],
   "source": [
    "baseline_models = [\n",
    "    ('twitter-xlm-roberta-base',  'XLMT'),\n",
    "    ('indobertweet-base-uncased', 'IndoT')\n",
    "]"
   ]
  },
  {
   "cell_type": "code",
   "execution_count": 4,
   "id": "54e57271-49cb-4b99-8401-01d11b67ffe1",
   "metadata": {},
   "outputs": [],
   "source": [
    "testset = pd.read_csv(\"0_resources/0_dataset/test_split.csv\")\n",
    "testset = collect_predictions(testset, 'baselines', list(zip(*baseline_models))[0], 'test_set_predictions.csv')"
   ]
  },
  {
   "cell_type": "code",
   "execution_count": 5,
   "id": "0cd963e1-1441-42a0-ad6a-6fc5558ce418",
   "metadata": {},
   "outputs": [
    {
     "name": "stdout",
     "output_type": "stream",
     "text": [
      "954 (31.80%) comments were majority-labelled as containing attacks.\n"
     ]
    }
   ],
   "source": [
    "attacks = len(testset[testset['label'] == 1])\n",
    "print(f\"{attacks:,.0f} ({(attacks/len(testset))*100:.2f}%) comments were majority-labelled as containing attacks.\")"
   ]
  },
  {
   "cell_type": "markdown",
   "id": "db4c6eef-4ebf-43b6-9957-2116a70abeb1",
   "metadata": {},
   "source": [
    "### Subreddit"
   ]
  },
  {
   "cell_type": "code",
   "execution_count": 6,
   "id": "be8b782b-ef67-4e6e-ac4a-9c3905457f55",
   "metadata": {},
   "outputs": [],
   "source": [
    "SUBREDDIT_CUTOFF = 5"
   ]
  },
  {
   "cell_type": "code",
   "execution_count": 7,
   "id": "e9fe2ca6-fdaa-4d3c-95ca-00f636c17178",
   "metadata": {},
   "outputs": [],
   "source": [
    "subreddits = pd.DataFrame(\n",
    "    {\n",
    "        'Comments': testset['subreddit'].value_counts(),\n",
    "        '% of Data': testset['subreddit'].value_counts(normalize=True)*100\n",
    "    },\n",
    "    index=testset['subreddit'].value_counts().index\n",
    ")\n",
    "other_count = np.sum(subreddits[subreddits['Comments'] < SUBREDDIT_CUTOFF].Comments)\n",
    "others = list(subreddits[subreddits['Comments'] < SUBREDDIT_CUTOFF].index)\n",
    "subreddits = subreddits[subreddits['Comments'] > SUBREDDIT_CUTOFF]\n",
    "\n",
    "subreddits.loc['Other'] = [other_count,  other_count/30]"
   ]
  },
  {
   "cell_type": "markdown",
   "id": "79960441-d97b-41a3-97c6-3a51995d9230",
   "metadata": {
    "tags": []
   },
   "source": [
    "#### Calculate % of Attacks"
   ]
  },
  {
   "cell_type": "code",
   "execution_count": 8,
   "id": "ead00b57-92d0-4bf0-be7c-9c252617687f",
   "metadata": {},
   "outputs": [],
   "source": [
    "def calculate_pct_by_grouper(df, col_to_group_by, target_col='label'):\n",
    "    raw = df.groupby([col_to_group_by, target_col]).id.count().unstack(fill_value=0).stack()\n",
    "    summary_df = pd.DataFrame(raw, columns=['Comments'])\n",
    "    total = df.groupby([col_to_group_by]).id.count()\n",
    "    summary_df['% of Subreddit'] = raw.div(total, level=col_to_group_by) * 100\n",
    "    return summary_df"
   ]
  },
  {
   "cell_type": "code",
   "execution_count": 9,
   "id": "4e55fd17-6cec-4888-afae-87c09520472c",
   "metadata": {},
   "outputs": [],
   "source": [
    "attack_summary_df = calculate_pct_by_grouper(testset, 'subreddit')\n",
    "attacks = []\n",
    "for idx, row in subreddits.iterrows():\n",
    "    try:\n",
    "        attacks.append(attack_summary_df.loc[idx].loc[1]['% of Subreddit'])\n",
    "    except:\n",
    "        other_attacks = []\n",
    "        for other_subreddit in others:\n",
    "            other_attacks.append(attack_summary_df.loc[other_subreddit].loc[1]['% of Subreddit'])\n",
    "        attacks.append(np.mean(other_attacks))    \n",
    "            \n",
    "subreddits['% Attacks'] = attacks"
   ]
  },
  {
   "cell_type": "markdown",
   "id": "092783fa-bc6a-4166-952f-2dce8c9ffa95",
   "metadata": {},
   "source": [
    "#### Calculate % of Indonesian Comments"
   ]
  },
  {
   "cell_type": "code",
   "execution_count": 10,
   "id": "3c9c569c-5a71-4eed-ba3b-7722a0589271",
   "metadata": {},
   "outputs": [],
   "source": [
    "indonesian = []\n",
    "for idx, row in subreddits.iterrows():\n",
    "    if idx in list(testset.subreddit):\n",
    "        indonesian.append((len(testset[(testset['subreddit']==idx) & (testset['final_label_language']=='Indonesian')]['label'])/len(testset[testset['subreddit']==idx]))*100)\n",
    "    else:\n",
    "        indonesian.append((len(testset[(testset['subreddit'].isin(others)) & (testset['final_label_language']=='Indonesian')]['label'])/len(testset[testset['subreddit'].isin(others)]))*100)\n",
    "subreddits['% Indonesian'] = indonesian"
   ]
  },
  {
   "cell_type": "markdown",
   "id": "d05bbcd1-c6b0-4e65-a160-9cc1ada51675",
   "metadata": {},
   "source": [
    "#### Calculate Error Rate"
   ]
  },
  {
   "cell_type": "code",
   "execution_count": 11,
   "id": "1010c0ef-dfae-43b2-9f61-6c4b04ca945b",
   "metadata": {},
   "outputs": [],
   "source": [
    "CLASSIFICATION_CUTOFF = 0.5"
   ]
  },
  {
   "cell_type": "code",
   "execution_count": 12,
   "id": "132be3cb-7c09-4592-83da-ece71220f317",
   "metadata": {},
   "outputs": [],
   "source": [
    "def calculate_error_rate(gold_labels, predictions):\n",
    "    report = classification_report(gold_labels, label(predictions), digits=4, output_dict=True)\n",
    "    return (report['accuracy']*100, report['1']['precision']*100, report['1']['recall']*100, report['macro avg']['f1-score']*100)    \n",
    "\n",
    "def label(predictions)->[]:\n",
    "    return [1 if p > CLASSIFICATION_CUTOFF else 0 for p in predictions] "
   ]
  },
  {
   "cell_type": "code",
   "execution_count": 13,
   "id": "72da5bee-895e-4713-9d85-9c2820063ec3",
   "metadata": {},
   "outputs": [],
   "source": [
    "for model_name, model_description in baseline_models:\n",
    "    error_analysis = []\n",
    "    for idx, row in subreddits.iterrows():\n",
    "        if idx in list(testset.subreddit):\n",
    "            gold_labels = testset[testset['subreddit']==idx]['label']\n",
    "            predictions = testset[testset['subreddit']==idx][model_name]\n",
    "            error_analysis.append(calculate_error_rate(gold_labels, predictions))\n",
    "        else:\n",
    "            gold_labels = testset[testset['subreddit'].isin(others)]['label']\n",
    "            predictions = testset[testset['subreddit'].isin(others)][model_name]\n",
    "            error_analysis.append(calculate_error_rate(gold_labels, predictions))\n",
    "    for column_name, entries in zip(['Acc', 'Prec', 'Rec', 'Macro F1'], list(zip(*error_analysis))):\n",
    "        subreddits[model_description + ' ' + column_name] = entries"
   ]
  },
  {
   "cell_type": "code",
   "execution_count": 14,
   "id": "f2daaa0e-a0fe-40d8-baac-baea0df24cec",
   "metadata": {},
   "outputs": [
    {
     "data": {
      "text/html": [
       "<div>\n",
       "<style scoped>\n",
       "    .dataframe tbody tr th:only-of-type {\n",
       "        vertical-align: middle;\n",
       "    }\n",
       "\n",
       "    .dataframe tbody tr th {\n",
       "        vertical-align: top;\n",
       "    }\n",
       "\n",
       "    .dataframe thead th {\n",
       "        text-align: right;\n",
       "    }\n",
       "</style>\n",
       "<table border=\"1\" class=\"dataframe\">\n",
       "  <thead>\n",
       "    <tr style=\"text-align: right;\">\n",
       "      <th></th>\n",
       "      <th>Comments</th>\n",
       "      <th>% of Data</th>\n",
       "      <th>% Attacks</th>\n",
       "      <th>% Indonesian</th>\n",
       "      <th>XLMT Acc</th>\n",
       "      <th>XLMT Prec</th>\n",
       "      <th>XLMT Rec</th>\n",
       "      <th>XLMT Macro F1</th>\n",
       "      <th>IndoT Acc</th>\n",
       "      <th>IndoT Prec</th>\n",
       "      <th>IndoT Rec</th>\n",
       "      <th>IndoT Macro F1</th>\n",
       "    </tr>\n",
       "  </thead>\n",
       "  <tbody>\n",
       "    <tr>\n",
       "      <th>indonesia</th>\n",
       "      <td>2,539.0</td>\n",
       "      <td>84.6</td>\n",
       "      <td>30.6</td>\n",
       "      <td>94.0</td>\n",
       "      <td>81.1</td>\n",
       "      <td>70.7</td>\n",
       "      <td>65.5</td>\n",
       "      <td>77.3</td>\n",
       "      <td>82.7</td>\n",
       "      <td>74.5</td>\n",
       "      <td>65.9</td>\n",
       "      <td>78.9</td>\n",
       "    </tr>\n",
       "    <tr>\n",
       "      <th>malaysia</th>\n",
       "      <td>254.0</td>\n",
       "      <td>8.5</td>\n",
       "      <td>41.7</td>\n",
       "      <td>20.5</td>\n",
       "      <td>80.3</td>\n",
       "      <td>74.6</td>\n",
       "      <td>80.2</td>\n",
       "      <td>80.0</td>\n",
       "      <td>82.7</td>\n",
       "      <td>77.7</td>\n",
       "      <td>82.1</td>\n",
       "      <td>82.3</td>\n",
       "    </tr>\n",
       "    <tr>\n",
       "      <th>singapore</th>\n",
       "      <td>49.0</td>\n",
       "      <td>1.6</td>\n",
       "      <td>20.4</td>\n",
       "      <td>14.3</td>\n",
       "      <td>85.7</td>\n",
       "      <td>66.7</td>\n",
       "      <td>60.0</td>\n",
       "      <td>77.1</td>\n",
       "      <td>85.7</td>\n",
       "      <td>66.7</td>\n",
       "      <td>60.0</td>\n",
       "      <td>77.1</td>\n",
       "    </tr>\n",
       "    <tr>\n",
       "      <th>malaygonewild</th>\n",
       "      <td>43.0</td>\n",
       "      <td>1.4</td>\n",
       "      <td>51.2</td>\n",
       "      <td>18.6</td>\n",
       "      <td>81.4</td>\n",
       "      <td>76.9</td>\n",
       "      <td>90.9</td>\n",
       "      <td>81.1</td>\n",
       "      <td>67.4</td>\n",
       "      <td>63.3</td>\n",
       "      <td>86.4</td>\n",
       "      <td>66.0</td>\n",
       "    </tr>\n",
       "    <tr>\n",
       "      <th>MalaysGoneWild</th>\n",
       "      <td>40.0</td>\n",
       "      <td>1.3</td>\n",
       "      <td>37.5</td>\n",
       "      <td>22.5</td>\n",
       "      <td>82.5</td>\n",
       "      <td>75.0</td>\n",
       "      <td>80.0</td>\n",
       "      <td>81.6</td>\n",
       "      <td>87.5</td>\n",
       "      <td>77.8</td>\n",
       "      <td>93.3</td>\n",
       "      <td>87.1</td>\n",
       "    </tr>\n",
       "    <tr>\n",
       "      <th>Ajar_Malaysia</th>\n",
       "      <td>18.0</td>\n",
       "      <td>0.6</td>\n",
       "      <td>27.8</td>\n",
       "      <td>11.1</td>\n",
       "      <td>83.3</td>\n",
       "      <td>66.7</td>\n",
       "      <td>80.0</td>\n",
       "      <td>80.4</td>\n",
       "      <td>83.3</td>\n",
       "      <td>75.0</td>\n",
       "      <td>60.0</td>\n",
       "      <td>77.8</td>\n",
       "    </tr>\n",
       "    <tr>\n",
       "      <th>MalaysianFappers</th>\n",
       "      <td>11.0</td>\n",
       "      <td>0.4</td>\n",
       "      <td>45.5</td>\n",
       "      <td>9.1</td>\n",
       "      <td>63.6</td>\n",
       "      <td>57.1</td>\n",
       "      <td>80.0</td>\n",
       "      <td>63.3</td>\n",
       "      <td>36.4</td>\n",
       "      <td>33.3</td>\n",
       "      <td>40.0</td>\n",
       "      <td>36.4</td>\n",
       "    </tr>\n",
       "    <tr>\n",
       "      <th>malaysians</th>\n",
       "      <td>10.0</td>\n",
       "      <td>0.3</td>\n",
       "      <td>30.0</td>\n",
       "      <td>30.0</td>\n",
       "      <td>70.0</td>\n",
       "      <td>50.0</td>\n",
       "      <td>33.3</td>\n",
       "      <td>60.0</td>\n",
       "      <td>70.0</td>\n",
       "      <td>50.0</td>\n",
       "      <td>33.3</td>\n",
       "      <td>60.0</td>\n",
       "    </tr>\n",
       "    <tr>\n",
       "      <th>NegarakuMalaysia</th>\n",
       "      <td>6.0</td>\n",
       "      <td>0.2</td>\n",
       "      <td>16.7</td>\n",
       "      <td>16.7</td>\n",
       "      <td>66.7</td>\n",
       "      <td>33.3</td>\n",
       "      <td>100.0</td>\n",
       "      <td>62.5</td>\n",
       "      <td>66.7</td>\n",
       "      <td>33.3</td>\n",
       "      <td>100.0</td>\n",
       "      <td>62.5</td>\n",
       "    </tr>\n",
       "    <tr>\n",
       "      <th>Other</th>\n",
       "      <td>30.0</td>\n",
       "      <td>1.0</td>\n",
       "      <td>34.8</td>\n",
       "      <td>20.0</td>\n",
       "      <td>76.7</td>\n",
       "      <td>63.6</td>\n",
       "      <td>70.0</td>\n",
       "      <td>74.4</td>\n",
       "      <td>70.0</td>\n",
       "      <td>54.5</td>\n",
       "      <td>60.0</td>\n",
       "      <td>67.0</td>\n",
       "    </tr>\n",
       "  </tbody>\n",
       "</table>\n",
       "</div>"
      ],
      "text/plain": [
       "                  Comments  % of Data  % Attacks  % Indonesian  XLMT Acc  \\\n",
       "indonesia          2,539.0       84.6       30.6          94.0      81.1   \n",
       "malaysia             254.0        8.5       41.7          20.5      80.3   \n",
       "singapore             49.0        1.6       20.4          14.3      85.7   \n",
       "malaygonewild         43.0        1.4       51.2          18.6      81.4   \n",
       "MalaysGoneWild        40.0        1.3       37.5          22.5      82.5   \n",
       "Ajar_Malaysia         18.0        0.6       27.8          11.1      83.3   \n",
       "MalaysianFappers      11.0        0.4       45.5           9.1      63.6   \n",
       "malaysians            10.0        0.3       30.0          30.0      70.0   \n",
       "NegarakuMalaysia       6.0        0.2       16.7          16.7      66.7   \n",
       "Other                 30.0        1.0       34.8          20.0      76.7   \n",
       "\n",
       "                  XLMT Prec  XLMT Rec  XLMT Macro F1  IndoT Acc  IndoT Prec  \\\n",
       "indonesia              70.7      65.5           77.3       82.7        74.5   \n",
       "malaysia               74.6      80.2           80.0       82.7        77.7   \n",
       "singapore              66.7      60.0           77.1       85.7        66.7   \n",
       "malaygonewild          76.9      90.9           81.1       67.4        63.3   \n",
       "MalaysGoneWild         75.0      80.0           81.6       87.5        77.8   \n",
       "Ajar_Malaysia          66.7      80.0           80.4       83.3        75.0   \n",
       "MalaysianFappers       57.1      80.0           63.3       36.4        33.3   \n",
       "malaysians             50.0      33.3           60.0       70.0        50.0   \n",
       "NegarakuMalaysia       33.3     100.0           62.5       66.7        33.3   \n",
       "Other                  63.6      70.0           74.4       70.0        54.5   \n",
       "\n",
       "                  IndoT Rec  IndoT Macro F1  \n",
       "indonesia              65.9            78.9  \n",
       "malaysia               82.1            82.3  \n",
       "singapore              60.0            77.1  \n",
       "malaygonewild          86.4            66.0  \n",
       "MalaysGoneWild         93.3            87.1  \n",
       "Ajar_Malaysia          60.0            77.8  \n",
       "MalaysianFappers       40.0            36.4  \n",
       "malaysians             33.3            60.0  \n",
       "NegarakuMalaysia      100.0            62.5  \n",
       "Other                  60.0            67.0  "
      ]
     },
     "execution_count": 14,
     "metadata": {},
     "output_type": "execute_result"
    }
   ],
   "source": [
    "pd.options.display.float_format = \"{:,.1f}\".format\n",
    "subreddits"
   ]
  },
  {
   "cell_type": "markdown",
   "id": "0b6dc4b9-6d76-411e-ae89-7ad4b4c99bf3",
   "metadata": {},
   "source": [
    "### Language"
   ]
  },
  {
   "cell_type": "code",
   "execution_count": 15,
   "id": "6f329aa2-0e23-43e7-a4b8-e63c64b64a13",
   "metadata": {},
   "outputs": [],
   "source": [
    "LANGUAGE_CUTOFF = 10"
   ]
  },
  {
   "cell_type": "code",
   "execution_count": 16,
   "id": "f40d2c93-0984-42ec-9523-1da294d09a8c",
   "metadata": {},
   "outputs": [],
   "source": [
    "languages = pd.DataFrame(\n",
    "    {\n",
    "        'Comments': testset['final_label_language'].value_counts(),\n",
    "        '% of Data': testset['final_label_language'].value_counts(normalize=True)*100\n",
    "    },\n",
    "    index=testset['final_label_language'].value_counts().index\n",
    ")\n",
    "other_count = np.sum(languages[languages['Comments'] < LANGUAGE_CUTOFF].Comments)\n",
    "others = list(languages[languages['Comments'] < LANGUAGE_CUTOFF].index)\n",
    "languages = languages[languages['Comments'] > LANGUAGE_CUTOFF]\n",
    "\n",
    "languages.loc['Other Languages'] = [other_count,  other_count/30]"
   ]
  },
  {
   "cell_type": "markdown",
   "id": "cffb362d-e60a-477a-a898-79eb86df400d",
   "metadata": {},
   "source": [
    "#### Calculate % of Attacks"
   ]
  },
  {
   "cell_type": "code",
   "execution_count": 17,
   "id": "9d4a30da-3225-4586-81de-651e2b0f6f9d",
   "metadata": {},
   "outputs": [],
   "source": [
    "attack_summary_df = calculate_pct_by_grouper(testset, 'final_label_language')\n",
    "attacks = []\n",
    "for idx, row in languages.iterrows():\n",
    "    try:\n",
    "        attacks.append(attack_summary_df.loc[idx].loc[1]['% of Subreddit'])\n",
    "    except:\n",
    "        other_attacks = []\n",
    "        for other_subreddit in others:\n",
    "            other_attacks.append(attack_summary_df.loc[other_subreddit].loc[1]['% of Subreddit'])\n",
    "        attacks.append(np.mean(other_attacks))  \n",
    "            \n",
    "languages['% Attacks'] = attacks"
   ]
  },
  {
   "cell_type": "markdown",
   "id": "b352cdbb-ac59-4b67-957c-cce306e1df92",
   "metadata": {},
   "source": [
    "#### Calculate Error Rate"
   ]
  },
  {
   "cell_type": "code",
   "execution_count": 18,
   "id": "94517c44-df36-463c-ba8b-8bef89001a48",
   "metadata": {},
   "outputs": [],
   "source": [
    "for model_name, model_description in baseline_models:\n",
    "    error_analysis = []\n",
    "    for idx, row in languages.iterrows():\n",
    "        if idx in list(testset.final_label_language):\n",
    "            gold_labels = testset[testset['final_label_language']==idx]['label']\n",
    "            predictions = testset[testset['final_label_language']==idx][model_name]\n",
    "            error_analysis.append(calculate_error_rate(gold_labels, predictions))\n",
    "        else:\n",
    "            gold_labels = testset[testset['final_label_language'].isin(others)]['label']\n",
    "            predictions = testset[testset['final_label_language'].isin(others)][model_name]\n",
    "            error_analysis.append(calculate_error_rate(gold_labels, predictions))\n",
    "    for column_name, entries in zip(['Acc', 'Prec', 'Rec', 'Macro F1'], list(zip(*error_analysis))):\n",
    "        languages[model_description + ' ' + column_name] = entries"
   ]
  },
  {
   "cell_type": "code",
   "execution_count": 19,
   "id": "4775843f-eae0-4c5f-b248-869b93414444",
   "metadata": {},
   "outputs": [
    {
     "data": {
      "text/html": [
       "<div>\n",
       "<style scoped>\n",
       "    .dataframe tbody tr th:only-of-type {\n",
       "        vertical-align: middle;\n",
       "    }\n",
       "\n",
       "    .dataframe tbody tr th {\n",
       "        vertical-align: top;\n",
       "    }\n",
       "\n",
       "    .dataframe thead th {\n",
       "        text-align: right;\n",
       "    }\n",
       "</style>\n",
       "<table border=\"1\" class=\"dataframe\">\n",
       "  <thead>\n",
       "    <tr style=\"text-align: right;\">\n",
       "      <th></th>\n",
       "      <th>Comments</th>\n",
       "      <th>% of Data</th>\n",
       "      <th>% Attacks</th>\n",
       "      <th>XLMT Acc</th>\n",
       "      <th>XLMT Prec</th>\n",
       "      <th>XLMT Rec</th>\n",
       "      <th>XLMT Macro F1</th>\n",
       "      <th>IndoT Acc</th>\n",
       "      <th>IndoT Prec</th>\n",
       "      <th>IndoT Rec</th>\n",
       "      <th>IndoT Macro F1</th>\n",
       "    </tr>\n",
       "  </thead>\n",
       "  <tbody>\n",
       "    <tr>\n",
       "      <th>Indonesian</th>\n",
       "      <td>2,476.0</td>\n",
       "      <td>82.5</td>\n",
       "      <td>30.5</td>\n",
       "      <td>81.0</td>\n",
       "      <td>70.2</td>\n",
       "      <td>65.3</td>\n",
       "      <td>77.1</td>\n",
       "      <td>82.7</td>\n",
       "      <td>74.1</td>\n",
       "      <td>66.3</td>\n",
       "      <td>78.9</td>\n",
       "    </tr>\n",
       "    <tr>\n",
       "      <th>Malay</th>\n",
       "      <td>276.0</td>\n",
       "      <td>9.2</td>\n",
       "      <td>48.6</td>\n",
       "      <td>80.1</td>\n",
       "      <td>76.5</td>\n",
       "      <td>85.1</td>\n",
       "      <td>80.1</td>\n",
       "      <td>78.6</td>\n",
       "      <td>74.5</td>\n",
       "      <td>85.1</td>\n",
       "      <td>78.6</td>\n",
       "    </tr>\n",
       "    <tr>\n",
       "      <th>('English', 'Indonesian')</th>\n",
       "      <td>94.0</td>\n",
       "      <td>3.1</td>\n",
       "      <td>25.5</td>\n",
       "      <td>80.9</td>\n",
       "      <td>63.6</td>\n",
       "      <td>58.3</td>\n",
       "      <td>74.1</td>\n",
       "      <td>81.9</td>\n",
       "      <td>68.4</td>\n",
       "      <td>54.2</td>\n",
       "      <td>74.4</td>\n",
       "    </tr>\n",
       "    <tr>\n",
       "      <th>Singlish</th>\n",
       "      <td>38.0</td>\n",
       "      <td>1.3</td>\n",
       "      <td>28.9</td>\n",
       "      <td>76.3</td>\n",
       "      <td>58.3</td>\n",
       "      <td>63.6</td>\n",
       "      <td>71.9</td>\n",
       "      <td>76.3</td>\n",
       "      <td>58.3</td>\n",
       "      <td>63.6</td>\n",
       "      <td>71.9</td>\n",
       "    </tr>\n",
       "    <tr>\n",
       "      <th>English</th>\n",
       "      <td>37.0</td>\n",
       "      <td>1.2</td>\n",
       "      <td>2.7</td>\n",
       "      <td>100.0</td>\n",
       "      <td>100.0</td>\n",
       "      <td>100.0</td>\n",
       "      <td>100.0</td>\n",
       "      <td>97.3</td>\n",
       "      <td>50.0</td>\n",
       "      <td>100.0</td>\n",
       "      <td>82.6</td>\n",
       "    </tr>\n",
       "    <tr>\n",
       "      <th>('English', 'Malay')</th>\n",
       "      <td>19.0</td>\n",
       "      <td>0.6</td>\n",
       "      <td>47.4</td>\n",
       "      <td>84.2</td>\n",
       "      <td>80.0</td>\n",
       "      <td>88.9</td>\n",
       "      <td>84.2</td>\n",
       "      <td>73.7</td>\n",
       "      <td>83.3</td>\n",
       "      <td>55.6</td>\n",
       "      <td>72.5</td>\n",
       "    </tr>\n",
       "    <tr>\n",
       "      <th>Other Languages</th>\n",
       "      <td>50.0</td>\n",
       "      <td>1.7</td>\n",
       "      <td>26.4</td>\n",
       "      <td>80.0</td>\n",
       "      <td>71.4</td>\n",
       "      <td>62.5</td>\n",
       "      <td>76.2</td>\n",
       "      <td>80.0</td>\n",
       "      <td>80.0</td>\n",
       "      <td>50.0</td>\n",
       "      <td>74.0</td>\n",
       "    </tr>\n",
       "  </tbody>\n",
       "</table>\n",
       "</div>"
      ],
      "text/plain": [
       "                           Comments  % of Data  % Attacks  XLMT Acc  \\\n",
       "Indonesian                  2,476.0       82.5       30.5      81.0   \n",
       "Malay                         276.0        9.2       48.6      80.1   \n",
       "('English', 'Indonesian')      94.0        3.1       25.5      80.9   \n",
       "Singlish                       38.0        1.3       28.9      76.3   \n",
       "English                        37.0        1.2        2.7     100.0   \n",
       "('English', 'Malay')           19.0        0.6       47.4      84.2   \n",
       "Other Languages                50.0        1.7       26.4      80.0   \n",
       "\n",
       "                           XLMT Prec  XLMT Rec  XLMT Macro F1  IndoT Acc  \\\n",
       "Indonesian                      70.2      65.3           77.1       82.7   \n",
       "Malay                           76.5      85.1           80.1       78.6   \n",
       "('English', 'Indonesian')       63.6      58.3           74.1       81.9   \n",
       "Singlish                        58.3      63.6           71.9       76.3   \n",
       "English                        100.0     100.0          100.0       97.3   \n",
       "('English', 'Malay')            80.0      88.9           84.2       73.7   \n",
       "Other Languages                 71.4      62.5           76.2       80.0   \n",
       "\n",
       "                           IndoT Prec  IndoT Rec  IndoT Macro F1  \n",
       "Indonesian                       74.1       66.3            78.9  \n",
       "Malay                            74.5       85.1            78.6  \n",
       "('English', 'Indonesian')        68.4       54.2            74.4  \n",
       "Singlish                         58.3       63.6            71.9  \n",
       "English                          50.0      100.0            82.6  \n",
       "('English', 'Malay')             83.3       55.6            72.5  \n",
       "Other Languages                  80.0       50.0            74.0  "
      ]
     },
     "execution_count": 19,
     "metadata": {},
     "output_type": "execute_result"
    }
   ],
   "source": [
    "pd.options.display.float_format = \"{:,.1f}\".format\n",
    "languages"
   ]
  },
  {
   "cell_type": "markdown",
   "id": "9cc0308e-ded4-4c2e-9024-869e3cae4550",
   "metadata": {},
   "source": [
    "#### Qualitative Model Comparison"
   ]
  },
  {
   "cell_type": "code",
   "execution_count": 20,
   "id": "aff4e869-3e80-4e73-b886-fa7dd900b8cb",
   "metadata": {},
   "outputs": [],
   "source": [
    "comparison = len(\n",
    "    testset[\n",
    "        (testset['final_label_language'] == 'Indonesian') &\n",
    "        (testset['label'] == 1 ) &\n",
    "        (testset['twitter-xlm-roberta-base'] < 0.5) &\n",
    "        (testset['indobertweet-base-uncased'] > 0.5)\n",
    "    ][['text', 'twitter-xlm-roberta-base', 'indobertweet-base-uncased']].index\n",
    ")"
   ]
  },
  {
   "cell_type": "code",
   "execution_count": 21,
   "id": "82b3427f-b865-4e17-a2f1-b9f290a76109",
   "metadata": {},
   "outputs": [
    {
     "name": "stdout",
     "output_type": "stream",
     "text": [
      "Indonesian Attacks correctly identified by IndoBERTweet but misclassified by XLM-T: 78\n"
     ]
    }
   ],
   "source": [
    "print(f\"Indonesian Attacks correctly identified by IndoBERTweet but misclassified by XLM-T: {comparison:,.0f}\")"
   ]
  },
  {
   "cell_type": "code",
   "execution_count": 22,
   "id": "35af0f25-9248-4b11-959d-1eaf8ce4ef29",
   "metadata": {},
   "outputs": [
    {
     "name": "stdout",
     "output_type": "stream",
     "text": [
      "Example: Jadi gini mbak, rasanya kontol saya pengen saya cekek deh liat mbak soalnya mbak ngomongnya dah kek kontol\n"
     ]
    }
   ],
   "source": [
    "print(f\"Example: {testset.iloc[26].text}\")"
   ]
  },
  {
   "cell_type": "markdown",
   "id": "662074db-b089-4891-80ef-2d25d714ac19",
   "metadata": {},
   "source": [
    "### Attack Type"
   ]
  },
  {
   "cell_type": "code",
   "execution_count": 25,
   "id": "4cbbd685-292c-4653-8b93-1506b47b3e06",
   "metadata": {},
   "outputs": [],
   "source": [
    "testset = pd.read_csv(\"0_resources/0_dataset/test_split.csv\")\n",
    "testset = collect_predictions(testset, 'baselines', list(zip(*baseline_models))[0], 'test_set_predictions.csv')\n",
    "full_data = pd.read_csv(\"0_resources/0_dataset/full.csv\")"
   ]
  },
  {
   "cell_type": "code",
   "execution_count": 26,
   "id": "417566ed-5408-414e-84de-9f6d59766ce8",
   "metadata": {},
   "outputs": [],
   "source": [
    "testset = pd.merge(testset, full_data, on=\"id\")"
   ]
  },
  {
   "cell_type": "code",
   "execution_count": 27,
   "id": "84593d5c-3c33-49e9-9e8e-f3cdb472ab3a",
   "metadata": {},
   "outputs": [],
   "source": [
    "def convert_to_majority(entry):\n",
    "    try:\n",
    "        entry = json.loads(entry.replace('nan', \"'nan'\").replace('\\'', \"\\\"\"))\n",
    "        if Counter(entry)['Yes'] > 1:\n",
    "            return 1\n",
    "    except: \n",
    "        if (entry.count('[nan,')+entry.count(' nan,')+entry.count('nan]')) < 1:\n",
    "            return 1\n",
    "    return 0"
   ]
  },
  {
   "cell_type": "code",
   "execution_count": 28,
   "id": "54342140-b233-4c3b-bde0-5c092c923477",
   "metadata": {},
   "outputs": [],
   "source": [
    "attack_types = [\n",
    "    ('attack_person', 'Attack on a Person'),\n",
    "    ('attack_media', 'Attack on Media'), \n",
    "    ('attack_protected', 'Attack on a Protected Group'),\n",
    "    ('attack_institution', 'Attack on an Institution'), \n",
    "    ('attack_other', 'Other Attacks')\n",
    "]"
   ]
  },
  {
   "cell_type": "code",
   "execution_count": 29,
   "id": "0a735799-a516-4a14-8674-88f80b08e133",
   "metadata": {},
   "outputs": [
    {
     "name": "stderr",
     "output_type": "stream",
     "text": [
      "100%|████████████████████████████████████████████████████████████████████████████████████████████████| 3000/3000 [00:00<00:00, 390264.62it/s]\n",
      "100%|████████████████████████████████████████████████████████████████████████████████████████████████| 3000/3000 [00:00<00:00, 375239.67it/s]\n",
      "100%|████████████████████████████████████████████████████████████████████████████████████████████████| 3000/3000 [00:00<00:00, 419514.30it/s]\n",
      "100%|████████████████████████████████████████████████████████████████████████████████████████████████| 3000/3000 [00:00<00:00, 419934.32it/s]\n",
      "100%|████████████████████████████████████████████████████████████████████████████████████████████████| 3000/3000 [00:00<00:00, 402099.89it/s]\n"
     ]
    }
   ],
   "source": [
    "for attack_type, attack_description in attack_types:\n",
    "    testset[attack_type + \"_maj\"] = testset[attack_type].progress_apply(lambda x: convert_to_majority(x))"
   ]
  },
  {
   "cell_type": "markdown",
   "id": "ef22101b-9edb-4bed-98ee-b4a650716bac",
   "metadata": {},
   "source": [
    "#### Calculate Error Rate"
   ]
  },
  {
   "cell_type": "code",
   "execution_count": 30,
   "id": "f0b8c2b3-5dff-4228-a3f5-09bc55740b9b",
   "metadata": {},
   "outputs": [],
   "source": [
    "import warnings\n",
    "warnings.filterwarnings('ignore')\n",
    "\n",
    "attack_type_analysis = []\n",
    "for attack_type, attack_description in attack_types:\n",
    "    \n",
    "    results = [attack_description]\n",
    "    entries = testset[testset[attack_type + \"_maj\"] == 1]\n",
    "    results.append(len(entries))\n",
    "    results.append((len(entries)/len(testset))*100)\n",
    "    \n",
    "    gold_labels = entries['label']\n",
    "    for model_name, model_description in baseline_models:\n",
    "        predictions = entries[model_name]      \n",
    "        a,_,_,_ = calculate_error_rate(gold_labels, predictions)\n",
    "        results.append(a)\n",
    "\n",
    "    attack_type_analysis.append(results)\n",
    "\n",
    "df_columns = ['Attack Type', 'Comments', '% of Data']\n",
    "for model_name, model_description in baseline_models:\n",
    "    df_columns.append(f'{model_description} Acc')\n",
    "\n",
    "attack_type_analysis = pd.DataFrame(attack_type_analysis, columns=df_columns)"
   ]
  },
  {
   "cell_type": "code",
   "execution_count": 31,
   "id": "b863e702-a0d2-4cfd-bd81-cc85892b217d",
   "metadata": {},
   "outputs": [
    {
     "data": {
      "text/html": [
       "<div>\n",
       "<style scoped>\n",
       "    .dataframe tbody tr th:only-of-type {\n",
       "        vertical-align: middle;\n",
       "    }\n",
       "\n",
       "    .dataframe tbody tr th {\n",
       "        vertical-align: top;\n",
       "    }\n",
       "\n",
       "    .dataframe thead th {\n",
       "        text-align: right;\n",
       "    }\n",
       "</style>\n",
       "<table border=\"1\" class=\"dataframe\">\n",
       "  <thead>\n",
       "    <tr style=\"text-align: right;\">\n",
       "      <th></th>\n",
       "      <th>Comments</th>\n",
       "      <th>% of Data</th>\n",
       "      <th>XLMT Acc</th>\n",
       "      <th>IndoT Acc</th>\n",
       "    </tr>\n",
       "    <tr>\n",
       "      <th>Attack Type</th>\n",
       "      <th></th>\n",
       "      <th></th>\n",
       "      <th></th>\n",
       "      <th></th>\n",
       "    </tr>\n",
       "  </thead>\n",
       "  <tbody>\n",
       "    <tr>\n",
       "      <th>Attack on a Person</th>\n",
       "      <td>679</td>\n",
       "      <td>22.6</td>\n",
       "      <td>70.3</td>\n",
       "      <td>72.5</td>\n",
       "    </tr>\n",
       "    <tr>\n",
       "      <th>Attack on Media</th>\n",
       "      <td>11</td>\n",
       "      <td>0.4</td>\n",
       "      <td>72.7</td>\n",
       "      <td>63.6</td>\n",
       "    </tr>\n",
       "    <tr>\n",
       "      <th>Attack on a Protected Group</th>\n",
       "      <td>81</td>\n",
       "      <td>2.7</td>\n",
       "      <td>70.4</td>\n",
       "      <td>65.4</td>\n",
       "    </tr>\n",
       "    <tr>\n",
       "      <th>Attack on an Institution</th>\n",
       "      <td>69</td>\n",
       "      <td>2.3</td>\n",
       "      <td>78.3</td>\n",
       "      <td>73.9</td>\n",
       "    </tr>\n",
       "    <tr>\n",
       "      <th>Other Attacks</th>\n",
       "      <td>4</td>\n",
       "      <td>0.1</td>\n",
       "      <td>75.0</td>\n",
       "      <td>100.0</td>\n",
       "    </tr>\n",
       "  </tbody>\n",
       "</table>\n",
       "</div>"
      ],
      "text/plain": [
       "                             Comments  % of Data  XLMT Acc  IndoT Acc\n",
       "Attack Type                                                          \n",
       "Attack on a Person                679       22.6      70.3       72.5\n",
       "Attack on Media                    11        0.4      72.7       63.6\n",
       "Attack on a Protected Group        81        2.7      70.4       65.4\n",
       "Attack on an Institution           69        2.3      78.3       73.9\n",
       "Other Attacks                       4        0.1      75.0      100.0"
      ]
     },
     "execution_count": 31,
     "metadata": {},
     "output_type": "execute_result"
    }
   ],
   "source": [
    "attack_type_analysis.set_index('Attack Type')"
   ]
  },
  {
   "cell_type": "markdown",
   "id": "0c71f6d1-b87b-40f9-aadd-3e9f8f71b4e1",
   "metadata": {},
   "source": [
    "#### Qualitative Model Comparison"
   ]
  },
  {
   "cell_type": "code",
   "execution_count": 32,
   "id": "a9eabea1-bf74-4c8a-90d1-63cb88f14c61",
   "metadata": {},
   "outputs": [],
   "source": [
    "comparison = len(\n",
    "    list(testset[\n",
    "        (testset['attack_institution_maj'] == 1) &\n",
    "        (testset['label'] == 1) &\n",
    "        (testset['twitter-xlm-roberta-base'] > 0.5) &\n",
    "        (testset['indobertweet-base-uncased'] < 0.5)]['text_x']\n",
    "    )\n",
    ")"
   ]
  },
  {
   "cell_type": "code",
   "execution_count": 33,
   "id": "06a4716d-8eec-4d49-aeb4-5d032e5c5235",
   "metadata": {},
   "outputs": [
    {
     "name": "stdout",
     "output_type": "stream",
     "text": [
      "INSTITUTION Attacks correctly identified by XLM-T but misclassified by IndoBERTweet: 9\n"
     ]
    }
   ],
   "source": [
    "print(f\"INSTITUTION Attacks correctly identified by XLM-T but misclassified by IndoBERTweet: {comparison:,.0f}\")"
   ]
  },
  {
   "cell_type": "code",
   "execution_count": 34,
   "id": "f0cd7ce5-4d00-4382-b70c-55f5b07017a8",
   "metadata": {},
   "outputs": [],
   "source": [
    "comparison = len(\n",
    "    list(testset[\n",
    "        (testset['attack_person_maj'] == 1) &\n",
    "        (testset['label'] == 1) &\n",
    "        (testset['twitter-xlm-roberta-base'] < 0.5) &\n",
    "        (testset['indobertweet-base-uncased'] > 0.5)]['text_x']\n",
    "    )\n",
    ")"
   ]
  },
  {
   "cell_type": "code",
   "execution_count": 35,
   "id": "fc07fe55-c71c-4cac-a7b4-498817c2d2ab",
   "metadata": {},
   "outputs": [
    {
     "name": "stdout",
     "output_type": "stream",
     "text": [
      "PERSON Attacks correctly identified by IndoBERTweet but misclassified by XLM-T: 69\n"
     ]
    }
   ],
   "source": [
    "print(f\"PERSON Attacks correctly identified by IndoBERTweet but misclassified by XLM-T: {comparison:,.0f}\")"
   ]
  },
  {
   "cell_type": "code",
   "execution_count": null,
   "id": "fcb255e7-da32-46ef-9d11-2fef72f64ef8",
   "metadata": {},
   "outputs": [],
   "source": []
  }
 ],
 "metadata": {
  "kernelspec": {
   "display_name": "Python 3 (ipykernel)",
   "language": "python",
   "name": "python3"
  },
  "language_info": {
   "codemirror_mode": {
    "name": "ipython",
    "version": 3
   },
   "file_extension": ".py",
   "mimetype": "text/x-python",
   "name": "python",
   "nbconvert_exporter": "python",
   "pygments_lexer": "ipython3",
   "version": "3.9.16"
  }
 },
 "nbformat": 4,
 "nbformat_minor": 5
}
