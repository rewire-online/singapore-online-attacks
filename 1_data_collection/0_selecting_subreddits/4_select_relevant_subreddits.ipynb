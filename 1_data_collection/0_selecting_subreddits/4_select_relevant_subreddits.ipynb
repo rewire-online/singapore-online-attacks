{
 "cells": [
  {
   "cell_type": "code",
   "execution_count": 1,
   "id": "2d7b478b-ee6f-4eb0-8aa3-cc2b4b208dbc",
   "metadata": {},
   "outputs": [],
   "source": [
    "import pandas as pd"
   ]
  },
  {
   "cell_type": "code",
   "execution_count": 2,
   "id": "2106f3cd-9778-47f6-9630-c14552b87482",
   "metadata": {},
   "outputs": [],
   "source": [
    "df_dict = dict()\n",
    "\n",
    "# load csvs\n",
    "\n",
    "for m in [\"active\"]:\n",
    "    df_dict[m] = pd.read_csv(f\"./0_data/subreddits-{m}.csv\")\n",
    "    df_dict[m].sort_values(by=\"subreddit\", inplace=True)"
   ]
  },
  {
   "cell_type": "code",
   "execution_count": 3,
   "id": "68140c6e-a8c4-44f2-aeac-6f8ac1632c6a",
   "metadata": {},
   "outputs": [
    {
     "name": "stdout",
     "output_type": "stream",
     "text": [
      "active\n",
      "7382\n",
      "7296 \n",
      "\n"
     ]
    }
   ],
   "source": [
    "# basic cleaning\n",
    "\n",
    "# drop user subreddits, starting with u_\n",
    "for m in df_dict:\n",
    "    print(m)\n",
    "    print(df_dict[m].shape[0])\n",
    "    df_dict[m] = df_dict[m][~df_dict[m].subreddit.str.startswith(\"u_\")]\n",
    "    print(df_dict[m].shape[0], \"\\n\")"
   ]
  },
  {
   "cell_type": "code",
   "execution_count": 4,
   "id": "ecfd3655-ea02-487d-b311-0716f8713164",
   "metadata": {},
   "outputs": [
    {
     "name": "stdout",
     "output_type": "stream",
     "text": [
      "CPU times: user 27.2 ms, sys: 3.39 ms, total: 30.6 ms\n",
      "Wall time: 29.6 ms\n"
     ]
    },
    {
     "data": {
      "text/html": [
       "<div>\n",
       "<style scoped>\n",
       "    .dataframe tbody tr th:only-of-type {\n",
       "        vertical-align: middle;\n",
       "    }\n",
       "\n",
       "    .dataframe tbody tr th {\n",
       "        vertical-align: top;\n",
       "    }\n",
       "\n",
       "    .dataframe thead th {\n",
       "        text-align: right;\n",
       "    }\n",
       "</style>\n",
       "<table border=\"1\" class=\"dataframe\">\n",
       "  <thead>\n",
       "    <tr style=\"text-align: right;\">\n",
       "      <th></th>\n",
       "      <th>subreddit</th>\n",
       "      <th>rewire_keyword</th>\n",
       "    </tr>\n",
       "  </thead>\n",
       "  <tbody>\n",
       "    <tr>\n",
       "      <th>325</th>\n",
       "      <td>50plusGW</td>\n",
       "      <td>1</td>\n",
       "    </tr>\n",
       "    <tr>\n",
       "      <th>5584</th>\n",
       "      <td>7DSGrandCross</td>\n",
       "      <td>1</td>\n",
       "    </tr>\n",
       "    <tr>\n",
       "      <th>5763</th>\n",
       "      <td>88Rising</td>\n",
       "      <td>1</td>\n",
       "    </tr>\n",
       "    <tr>\n",
       "      <th>5176</th>\n",
       "      <td>Ajar_Malaysia</td>\n",
       "      <td>1</td>\n",
       "    </tr>\n",
       "    <tr>\n",
       "      <th>3257</th>\n",
       "      <td>AnimalCrossing</td>\n",
       "      <td>1</td>\n",
       "    </tr>\n",
       "    <tr>\n",
       "      <th>...</th>\n",
       "      <td>...</td>\n",
       "      <td>...</td>\n",
       "    </tr>\n",
       "    <tr>\n",
       "      <th>4117</th>\n",
       "      <td>transgendercirclejerk</td>\n",
       "      <td>1</td>\n",
       "    </tr>\n",
       "    <tr>\n",
       "      <th>426</th>\n",
       "      <td>ukgirlsgonewild</td>\n",
       "      <td>1</td>\n",
       "    </tr>\n",
       "    <tr>\n",
       "      <th>6547</th>\n",
       "      <td>urbanmalaysia</td>\n",
       "      <td>1</td>\n",
       "    </tr>\n",
       "    <tr>\n",
       "      <th>1110</th>\n",
       "      <td>vrising</td>\n",
       "      <td>1</td>\n",
       "    </tr>\n",
       "    <tr>\n",
       "      <th>4275</th>\n",
       "      <td>windows</td>\n",
       "      <td>1</td>\n",
       "    </tr>\n",
       "  </tbody>\n",
       "</table>\n",
       "<p>146 rows × 2 columns</p>\n",
       "</div>"
      ],
      "text/plain": [
       "                  subreddit  rewire_keyword\n",
       "325                50plusGW               1\n",
       "5584          7DSGrandCross               1\n",
       "5763               88Rising               1\n",
       "5176          Ajar_Malaysia               1\n",
       "3257         AnimalCrossing               1\n",
       "...                     ...             ...\n",
       "4117  transgendercirclejerk               1\n",
       "426         ukgirlsgonewild               1\n",
       "6547          urbanmalaysia               1\n",
       "1110                vrising               1\n",
       "4275                windows               1\n",
       "\n",
       "[146 rows x 2 columns]"
      ]
     },
     "execution_count": 4,
     "metadata": {},
     "output_type": "execute_result"
    }
   ],
   "source": [
    "%%time\n",
    "\n",
    "# keyword search\n",
    "def contains_keyword(subreddit_name, keywords):\n",
    "    if any(key in subreddit_name.lower() for key in keywords):\n",
    "        return 1\n",
    "    else:\n",
    "        return 0\n",
    "\n",
    "keywords = [\"sing\", \"sg\", \"malay\", \"indo\", \"pore\"]\n",
    "\n",
    "for m in df_dict:\n",
    "    df_dict[m][\"rewire_keyword\"] = df_dict[m].subreddit.apply(lambda x: contains_keyword(x, keywords))\n",
    "\n",
    "df_dict[\"active\"][df_dict[\"active\"].rewire_keyword==1]"
   ]
  },
  {
   "cell_type": "code",
   "execution_count": 5,
   "id": "2b0b7af6-1146-4b2f-90d9-fa79f240465e",
   "metadata": {},
   "outputs": [],
   "source": [
    "# export to csv\n",
    "for m in df_dict:\n",
    "    df_dict[m].to_csv(f\"clean-subreddits-{m}.csv\", index=False)"
   ]
  },
  {
   "cell_type": "code",
   "execution_count": null,
   "id": "58143400-05da-4698-bc17-54659230b3d4",
   "metadata": {},
   "outputs": [],
   "source": []
  }
 ],
 "metadata": {
  "kernelspec": {
   "display_name": "Python 3 (ipykernel)",
   "language": "python",
   "name": "python3"
  },
  "language_info": {
   "codemirror_mode": {
    "name": "ipython",
    "version": 3
   },
   "file_extension": ".py",
   "mimetype": "text/x-python",
   "name": "python",
   "nbconvert_exporter": "python",
   "pygments_lexer": "ipython3",
   "version": "3.9.16"
  }
 },
 "nbformat": 4,
 "nbformat_minor": 5
}
